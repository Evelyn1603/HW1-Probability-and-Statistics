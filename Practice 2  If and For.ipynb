{
 "cells": [
  {
   "cell_type": "markdown",
   "metadata": {},
   "source": [
    "## If and For Program"
   ]
  },
  {
   "cell_type": "markdown",
   "metadata": {},
   "source": [
    "In this program we learned aboout the command For and If\n",
    "We use For to repeat the instructions while is true.\n",
    "And we use If to establish a certain condition that you want to do with respect to parameters established, in case that the condition is false the screen will show you  a message of Error.\n",
    "\n",
    "With this program the aim was: Ask the amount of names that we want to introduce, then introduce all the names, and evaluate the function, if you write for mistake a value bigger that you did not consider, the program will show you the next message: Error!! Choose a exist number, Consider 0 to The number of values that you put\n"
   ]
  },
  {
   "cell_type": "code",
   "execution_count": 3,
   "metadata": {},
   "outputs": [
    {
     "name": "stdout",
     "output_type": "stream",
     "text": [
      "How many names do you want to introduce?2\n",
      "Introduce the name: Evelyn\n",
      "Introduce the name: Arellano\n",
      "\n",
      "Which name do you want to show?. Consider 0 to The number of values that you put: 1\n",
      "The name that you chose was: Arellano\n"
     ]
    }
   ],
   "source": [
    "values= int(input(\"How many names do you want to introduce?\"))\n",
    "names=[]\n",
    "for i in range(0,values):\n",
    "    x=input(\"Introduce the name: \")\n",
    "    names.append(x)\n",
    "place=int(input(\"\\nWhich name do you want to show?. Consider 0 to The number of values that you put: \"))\n",
    "if place in range(0,values):\n",
    "    print(\"The name that you chose was:\",names[place])\n",
    "else:\n",
    "    print(\"\\n\\nError!! Choose a exist number, Consider 0 to The number of values that you put: \")\n",
    "    place=int(input(\"Which name do you want to show?\"))\n",
    "    if place in range(0,values):\n",
    "        print(\"The name that you chose was:\",names[place])"
   ]
  },
  {
   "cell_type": "code",
   "execution_count": null,
   "metadata": {},
   "outputs": [],
   "source": []
  }
 ],
 "metadata": {
  "kernelspec": {
   "display_name": "Python 3",
   "language": "python",
   "name": "python3"
  },
  "language_info": {
   "codemirror_mode": {
    "name": "ipython",
    "version": 3
   },
   "file_extension": ".py",
   "mimetype": "text/x-python",
   "name": "python",
   "nbconvert_exporter": "python",
   "pygments_lexer": "ipython3",
   "version": "3.7.4"
  }
 },
 "nbformat": 4,
 "nbformat_minor": 2
}
