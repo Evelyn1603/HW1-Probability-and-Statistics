{
 "cells": [
  {
   "cell_type": "markdown",
   "metadata": {},
   "source": [
    "# TRIMMED MEAN"
   ]
  },
  {
   "cell_type": "markdown",
   "metadata": {},
   "source": [
    "In this program we developed an example of trimmed mean. The aim of this is take a percent of the sample and remove the useless values. Then calculate the sample mean with the new sample. The user could choose the percent that he want to applicate."
   ]
  },
  {
   "cell_type": "code",
   "execution_count": null,
   "metadata": {},
   "outputs": [],
   "source": [
    "n=0\n",
    "a=0\n",
    "x=0\n",
    "r=0\n",
    "t=0\n",
    "p=0\n",
    "num=[]\n",
    "\n",
    "\n",
    "p=int(input(\"How much percent do you want to applicate?\"))\n",
    "if p<0 or p<=20:\n",
    "    n=int(input(\"How many values do you want to introduce?\\n\"))\n",
    "    p=int((p/100)*n)\n",
    "    p1=int(p*2)\n",
    "    for i in range(0,n):\n",
    "        x=int(input(f\"Introduce value{i+1}: \"))\n",
    "        num.append(x)\n",
    "    num2=sorted(num[p:-p])\n",
    "    trim=sum(num2)/(n-p1)\n",
    "    print(p)\n",
    "    print(num2)\n",
    "    print(sum(num2))\n",
    "    print(\"\\033[;36m\"+\"Trimmed mean is\",trim)"
   ]
  }
 ],
 "metadata": {
  "kernelspec": {
   "display_name": "Python 3",
   "language": "python",
   "name": "python3"
  },
  "language_info": {
   "codemirror_mode": {
    "name": "ipython",
    "version": 3
   },
   "file_extension": ".py",
   "mimetype": "text/x-python",
   "name": "python",
   "nbconvert_exporter": "python",
   "pygments_lexer": "ipython3",
   "version": "3.7.4"
  }
 },
 "nbformat": 4,
 "nbformat_minor": 2
}
