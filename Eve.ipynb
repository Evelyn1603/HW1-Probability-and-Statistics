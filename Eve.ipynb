{
 "cells": [
  {
   "cell_type": "code",
   "execution_count": 30,
   "metadata": {},
   "outputs": [
    {
     "name": "stdout",
     "output_type": "stream",
     "text": [
      "How much data do you want to introduce? 2\n",
      "Introduce x1: 1\n",
      "Introduce x2: 7\n",
      "This is your sample: \n",
      "1 7 \n",
      "The sample mean is:  4.0\n",
      "Total x2:  50\n",
      "a=  3.5\n"
     ]
    }
   ],
   "source": [
    "t= 0\n",
    "x2 = 0\n",
    "p=0\n",
    "n=0\n",
    "a=0\n",
    "data=[]\n",
    "\n",
    "n= int(input(\"How much data do you want to introduce? \"))\n",
    "for i in range(0,n):\n",
    "    x = int(input(f\"Introduce x{i+1}: \"))\n",
    "    data.append(x)\n",
    "    t += x\n",
    "    x2 += (x**2)\n",
    "    p= t/n\n",
    "    a += (x-p)\n",
    "    \n",
    "print(\"This is your sample: \")    \n",
    "for i in data:\n",
    "    print(i, end = ' ')\n",
    "\n",
    "print(f\"\\nThe sample mean is: \", p)\n",
    "print(\"Total x2: \", x2)\n",
    "print(\"a= \",a)"
   ]
  },
  {
   "cell_type": "code",
   "execution_count": null,
   "metadata": {},
   "outputs": [],
   "source": []
  }
 ],
 "metadata": {
  "kernelspec": {
   "display_name": "Python 3",
   "language": "python",
   "name": "python3"
  },
  "language_info": {
   "codemirror_mode": {
    "name": "ipython",
    "version": 3
   },
   "file_extension": ".py",
   "mimetype": "text/x-python",
   "name": "python",
   "nbconvert_exporter": "python",
   "pygments_lexer": "ipython3",
   "version": "3.7.4"
  }
 },
 "nbformat": 4,
 "nbformat_minor": 2
}
