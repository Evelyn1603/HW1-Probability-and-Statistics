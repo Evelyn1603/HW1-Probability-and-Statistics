{
 "cells": [
  {
   "cell_type": "markdown",
   "metadata": {},
   "source": [
    "# Sample mean, Mode and Standard Deviation"
   ]
  },
  {
   "cell_type": "markdown",
   "metadata": {},
   "source": [
    "The program calculates the Standard Deviation, Sample mean and The mode, firstly the program asks to the user, which operation wants to do, then it ask the amount of data and after that request the set of data to make the correspondent operations and shows the result."
   ]
  },
  {
   "cell_type": "code",
   "execution_count": null,
   "metadata": {},
   "outputs": [],
   "source": [
    "n=0\n",
    "a=0\n",
    "x=0\n",
    "r=0\n",
    "num=[]\n",
    "repeat=0\n",
    "sum_x = 0\n",
    "prom_x = 0\n",
    "a=int(input(\"\\033[1;31m\"+\"\"\"Which Operation do you want to Calculate??\n",
    "        Press 1 for Sample mean\n",
    "        Press 2 for Mode\n",
    "        Press 3 for Standard deviation\n",
    "        \"\"\"))\n",
    "if a==1: \n",
    "    n=int(input(\"\\033[1;36m\"+\"How many values do you want to introduce: \"))\n",
    "    for i in range(0,n):\n",
    "        x=int(input(f\"Introduce x{i+1}: \"))\n",
    "        num.append(x)\n",
    "        sum_x+=x\n",
    "        prom_x=sum_x/n\n",
    "        r+=(x-prom_x)\n",
    "        sd=(r/(n-1))**0.5\n",
    "    print(\"This is your sample: \")    \n",
    "    for i in num:\n",
    "        print(i, end = ' ')\n",
    "    print(\"\\033[1;32m\"+\"\\nThe sample mean is:\",prom_x)\n",
    "if a==2:\n",
    "    n=int(input(\"\\033[1;36m\"+\"How many values do you want to introduce: \"))\n",
    "    for i in range(0,n):\n",
    "        x=int(input(f\"Introduce x{i+1}: \"))                                                                     \n",
    "        num.append(x)\n",
    "        for i in num:                                                                              \n",
    "            times = num.count(i)                                                             \n",
    "            if times > repeat:                                                       \n",
    "                repeat = times                                                       \n",
    "    print(\"This is your sample: \")    \n",
    "    for i in num:\n",
    "        print(i, end = ' ')                                                                             \n",
    "        mode = []                                                                               \n",
    "        for i in num:                                                                              \n",
    "            times = num.count(i)                                                             \n",
    "            if times == repeat and i not in mode:                                   \n",
    "                mode.append(i)\n",
    "    print(\"\\033[1;32m\"+\"\\nThe mode is:\",mode)\n",
    "    \n",
    "if a==3:\n",
    "    n=int(input(\"\\033[1;36m\"+\"How many values do you want to introduce: \"))\n",
    "    for i in range(0,n):\n",
    "        x=int(input(f\"Introduce x{i+1}: \"))\n",
    "        num.append(x)\n",
    "        sum_x+=x\n",
    "        prom_x=sum_x/n\n",
    "        r+=(x-prom_x)\n",
    "        sd=(r/(n-1))**0.5\n",
    "    print(\"This is your sample: \")    \n",
    "    for i in num:\n",
    "        print(i, end = ' ')\n",
    "    print(\"\\033[1;32m\"+\"\\nStandard deviation is:\",sd)"
   ]
  }
 ],
 "metadata": {
  "kernelspec": {
   "display_name": "Python 3",
   "language": "python",
   "name": "python3"
  },
  "language_info": {
   "codemirror_mode": {
    "name": "ipython",
    "version": 3
   },
   "file_extension": ".py",
   "mimetype": "text/x-python",
   "name": "python",
   "nbconvert_exporter": "python",
   "pygments_lexer": "ipython3",
   "version": "3.7.4"
  }
 },
 "nbformat": 4,
 "nbformat_minor": 2
}
