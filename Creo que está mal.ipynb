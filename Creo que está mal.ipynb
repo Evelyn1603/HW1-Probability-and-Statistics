{
 "cells": [
  {
   "cell_type": "code",
   "execution_count": 10,
   "metadata": {},
   "outputs": [
    {
     "name": "stdout",
     "output_type": "stream",
     "text": [
      "How many values you want introduce?\n",
      "2\n",
      "Introduce value1: 1\n",
      "Introduce value2: 7\n",
      "\n",
      "Standar deviation: 1.8708286933869707\n",
      "r 3.5\n",
      "prom 4.0\n"
     ]
    }
   ],
   "source": [
    "n=0\n",
    "a=0\n",
    "x=0\n",
    "r=0\n",
    "num=[]\n",
    "repeat=0\n",
    "sum_x = 0\n",
    "prom_x = 0\n",
    "\n",
    "n=int(input(\"How many values you want introduce?\\n\"))\n",
    "for i in range(0,n):\n",
    "        x=int(input(f\"Introduce value{i+1}: \"))\n",
    "        sum_x+=x\n",
    "        prom_x=sum_x/n\n",
    "        r+=(x-prom_x)\n",
    "        sd=(r/(n-1))**0.5\n",
    "print(\"\\nStandar deviation:\",sd)\n",
    "print(\"r\",r)\n",
    "print(\"prom\",prom_x)"
   ]
  },
  {
   "cell_type": "code",
   "execution_count": null,
   "metadata": {},
   "outputs": [],
   "source": []
  }
 ],
 "metadata": {
  "kernelspec": {
   "display_name": "Python 3",
   "language": "python",
   "name": "python3"
  },
  "language_info": {
   "codemirror_mode": {
    "name": "ipython",
    "version": 3
   },
   "file_extension": ".py",
   "mimetype": "text/x-python",
   "name": "python",
   "nbconvert_exporter": "python",
   "pygments_lexer": "ipython3",
   "version": "3.7.4"
  }
 },
 "nbformat": 4,
 "nbformat_minor": 2
}
